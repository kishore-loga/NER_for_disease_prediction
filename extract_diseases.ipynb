{
 "cells": [
  {
   "cell_type": "markdown",
   "metadata": {},
   "source": [
    "# **NER for Disease Prediction Using Dictionary and Pretrained Model**"
   ]
  },
  {
   "cell_type": "markdown",
   "metadata": {},
   "source": [
    "This notebook demonstrates two different approaches to identifying diseases in text:\n",
    "\n",
    "Using a dictionary with Spacy’s PhraseMatcher: This approach involves matching disease names from a predefined list.\n",
    "Using a pretrained Named Entity Recognition (NER) model: In this case, we use the bc5cdr model, which is trained specifically for biomedical entities."
   ]
  },
  {
   "cell_type": "code",
   "execution_count": null,
   "metadata": {},
   "outputs": [
    {
     "name": "stdout",
     "output_type": "stream",
     "text": [
      "^C\n",
      "Collecting https://s3-us-west-2.amazonaws.com/ai2-s2-scispacy/releases/v0.5.4/en_core_sci_sm-0.5.4.tar.gz\n",
      "  Using cached https://s3-us-west-2.amazonaws.com/ai2-s2-scispacy/releases/v0.5.4/en_core_sci_sm-0.5.4.tar.gz (14.8 MB)\n",
      "  Installing build dependencies: started\n",
      "  Installing build dependencies: finished with status 'done'\n",
      "  Getting requirements to build wheel: started\n",
      "  Getting requirements to build wheel: finished with status 'done'\n",
      "  Preparing metadata (pyproject.toml): started\n",
      "  Preparing metadata (pyproject.toml): finished with status 'done'\n",
      "Requirement already satisfied: spacy<3.8.0,>=3.7.4 in c:\\users\\erohsik\\onedrive\\desktop\\regkeyproject\\.venv\\lib\\site-packages (from en_core_sci_sm==0.5.4) (3.7.5)\n",
      "Requirement already satisfied: spacy-legacy<3.1.0,>=3.0.11 in c:\\users\\erohsik\\onedrive\\desktop\\regkeyproject\\.venv\\lib\\site-packages (from spacy<3.8.0,>=3.7.4->en_core_sci_sm==0.5.4) (3.0.12)\n",
      "Requirement already satisfied: spacy-loggers<2.0.0,>=1.0.0 in c:\\users\\erohsik\\onedrive\\desktop\\regkeyproject\\.venv\\lib\\site-packages (from spacy<3.8.0,>=3.7.4->en_core_sci_sm==0.5.4) (1.0.5)\n",
      "Requirement already satisfied: murmurhash<1.1.0,>=0.28.0 in c:\\users\\erohsik\\onedrive\\desktop\\regkeyproject\\.venv\\lib\\site-packages (from spacy<3.8.0,>=3.7.4->en_core_sci_sm==0.5.4) (1.0.10)\n",
      "Requirement already satisfied: cymem<2.1.0,>=2.0.2 in c:\\users\\erohsik\\onedrive\\desktop\\regkeyproject\\.venv\\lib\\site-packages (from spacy<3.8.0,>=3.7.4->en_core_sci_sm==0.5.4) (2.0.8)\n",
      "Requirement already satisfied: preshed<3.1.0,>=3.0.2 in c:\\users\\erohsik\\onedrive\\desktop\\regkeyproject\\.venv\\lib\\site-packages (from spacy<3.8.0,>=3.7.4->en_core_sci_sm==0.5.4) (3.0.9)\n",
      "Requirement already satisfied: thinc<8.3.0,>=8.2.2 in c:\\users\\erohsik\\onedrive\\desktop\\regkeyproject\\.venv\\lib\\site-packages (from spacy<3.8.0,>=3.7.4->en_core_sci_sm==0.5.4) (8.2.5)\n",
      "Requirement already satisfied: wasabi<1.2.0,>=0.9.1 in c:\\users\\erohsik\\onedrive\\desktop\\regkeyproject\\.venv\\lib\\site-packages (from spacy<3.8.0,>=3.7.4->en_core_sci_sm==0.5.4) (1.1.3)\n",
      "Requirement already satisfied: srsly<3.0.0,>=2.4.3 in c:\\users\\erohsik\\onedrive\\desktop\\regkeyproject\\.venv\\lib\\site-packages (from spacy<3.8.0,>=3.7.4->en_core_sci_sm==0.5.4) (2.4.8)\n",
      "Requirement already satisfied: catalogue<2.1.0,>=2.0.6 in c:\\users\\erohsik\\onedrive\\desktop\\regkeyproject\\.venv\\lib\\site-packages (from spacy<3.8.0,>=3.7.4->en_core_sci_sm==0.5.4) (2.0.10)\n",
      "Requirement already satisfied: weasel<0.5.0,>=0.1.0 in c:\\users\\erohsik\\onedrive\\desktop\\regkeyproject\\.venv\\lib\\site-packages (from spacy<3.8.0,>=3.7.4->en_core_sci_sm==0.5.4) (0.4.1)\n",
      "Requirement already satisfied: typer<1.0.0,>=0.3.0 in c:\\users\\erohsik\\onedrive\\desktop\\regkeyproject\\.venv\\lib\\site-packages (from spacy<3.8.0,>=3.7.4->en_core_sci_sm==0.5.4) (0.12.5)\n",
      "Requirement already satisfied: tqdm<5.0.0,>=4.38.0 in c:\\users\\erohsik\\onedrive\\desktop\\regkeyproject\\.venv\\lib\\site-packages (from spacy<3.8.0,>=3.7.4->en_core_sci_sm==0.5.4) (4.66.5)\n",
      "Requirement already satisfied: requests<3.0.0,>=2.13.0 in c:\\users\\erohsik\\onedrive\\desktop\\regkeyproject\\.venv\\lib\\site-packages (from spacy<3.8.0,>=3.7.4->en_core_sci_sm==0.5.4) (2.32.3)\n",
      "Requirement already satisfied: pydantic!=1.8,!=1.8.1,<3.0.0,>=1.7.4 in c:\\users\\erohsik\\onedrive\\desktop\\regkeyproject\\.venv\\lib\\site-packages (from spacy<3.8.0,>=3.7.4->en_core_sci_sm==0.5.4) (2.9.2)\n",
      "Requirement already satisfied: jinja2 in c:\\users\\erohsik\\onedrive\\desktop\\regkeyproject\\.venv\\lib\\site-packages (from spacy<3.8.0,>=3.7.4->en_core_sci_sm==0.5.4) (3.1.4)\n",
      "Requirement already satisfied: setuptools in c:\\users\\erohsik\\onedrive\\desktop\\regkeyproject\\.venv\\lib\\site-packages (from spacy<3.8.0,>=3.7.4->en_core_sci_sm==0.5.4) (75.2.0)\n",
      "Requirement already satisfied: packaging>=20.0 in c:\\users\\erohsik\\onedrive\\desktop\\regkeyproject\\.venv\\lib\\site-packages (from spacy<3.8.0,>=3.7.4->en_core_sci_sm==0.5.4) (24.1)\n",
      "Requirement already satisfied: langcodes<4.0.0,>=3.2.0 in c:\\users\\erohsik\\onedrive\\desktop\\regkeyproject\\.venv\\lib\\site-packages (from spacy<3.8.0,>=3.7.4->en_core_sci_sm==0.5.4) (3.4.1)\n",
      "Requirement already satisfied: numpy>=1.19.0 in c:\\users\\erohsik\\onedrive\\desktop\\regkeyproject\\.venv\\lib\\site-packages (from spacy<3.8.0,>=3.7.4->en_core_sci_sm==0.5.4) (1.26.4)\n",
      "Requirement already satisfied: language-data>=1.2 in c:\\users\\erohsik\\onedrive\\desktop\\regkeyproject\\.venv\\lib\\site-packages (from langcodes<4.0.0,>=3.2.0->spacy<3.8.0,>=3.7.4->en_core_sci_sm==0.5.4) (1.2.0)\n",
      "Requirement already satisfied: annotated-types>=0.6.0 in c:\\users\\erohsik\\onedrive\\desktop\\regkeyproject\\.venv\\lib\\site-packages (from pydantic!=1.8,!=1.8.1,<3.0.0,>=1.7.4->spacy<3.8.0,>=3.7.4->en_core_sci_sm==0.5.4) (0.7.0)\n",
      "Requirement already satisfied: pydantic-core==2.23.4 in c:\\users\\erohsik\\onedrive\\desktop\\regkeyproject\\.venv\\lib\\site-packages (from pydantic!=1.8,!=1.8.1,<3.0.0,>=1.7.4->spacy<3.8.0,>=3.7.4->en_core_sci_sm==0.5.4) (2.23.4)\n",
      "Requirement already satisfied: typing-extensions>=4.6.1 in c:\\users\\erohsik\\onedrive\\desktop\\regkeyproject\\.venv\\lib\\site-packages (from pydantic!=1.8,!=1.8.1,<3.0.0,>=1.7.4->spacy<3.8.0,>=3.7.4->en_core_sci_sm==0.5.4) (4.12.2)\n",
      "Requirement already satisfied: charset-normalizer<4,>=2 in c:\\users\\erohsik\\onedrive\\desktop\\regkeyproject\\.venv\\lib\\site-packages (from requests<3.0.0,>=2.13.0->spacy<3.8.0,>=3.7.4->en_core_sci_sm==0.5.4) (3.4.0)\n",
      "Requirement already satisfied: idna<4,>=2.5 in c:\\users\\erohsik\\onedrive\\desktop\\regkeyproject\\.venv\\lib\\site-packages (from requests<3.0.0,>=2.13.0->spacy<3.8.0,>=3.7.4->en_core_sci_sm==0.5.4) (3.10)\n",
      "Requirement already satisfied: urllib3<3,>=1.21.1 in c:\\users\\erohsik\\onedrive\\desktop\\regkeyproject\\.venv\\lib\\site-packages (from requests<3.0.0,>=2.13.0->spacy<3.8.0,>=3.7.4->en_core_sci_sm==0.5.4) (2.2.3)\n",
      "Requirement already satisfied: certifi>=2017.4.17 in c:\\users\\erohsik\\onedrive\\desktop\\regkeyproject\\.venv\\lib\\site-packages (from requests<3.0.0,>=2.13.0->spacy<3.8.0,>=3.7.4->en_core_sci_sm==0.5.4) (2024.8.30)\n",
      "Requirement already satisfied: blis<0.8.0,>=0.7.8 in c:\\users\\erohsik\\onedrive\\desktop\\regkeyproject\\.venv\\lib\\site-packages (from thinc<8.3.0,>=8.2.2->spacy<3.8.0,>=3.7.4->en_core_sci_sm==0.5.4) (0.7.11)\n",
      "Requirement already satisfied: confection<1.0.0,>=0.0.1 in c:\\users\\erohsik\\onedrive\\desktop\\regkeyproject\\.venv\\lib\\site-packages (from thinc<8.3.0,>=8.2.2->spacy<3.8.0,>=3.7.4->en_core_sci_sm==0.5.4) (0.1.5)\n",
      "Requirement already satisfied: colorama in c:\\users\\erohsik\\onedrive\\desktop\\regkeyproject\\.venv\\lib\\site-packages (from tqdm<5.0.0,>=4.38.0->spacy<3.8.0,>=3.7.4->en_core_sci_sm==0.5.4) (0.4.6)\n",
      "Requirement already satisfied: click>=8.0.0 in c:\\users\\erohsik\\onedrive\\desktop\\regkeyproject\\.venv\\lib\\site-packages (from typer<1.0.0,>=0.3.0->spacy<3.8.0,>=3.7.4->en_core_sci_sm==0.5.4) (8.1.7)\n",
      "Requirement already satisfied: shellingham>=1.3.0 in c:\\users\\erohsik\\onedrive\\desktop\\regkeyproject\\.venv\\lib\\site-packages (from typer<1.0.0,>=0.3.0->spacy<3.8.0,>=3.7.4->en_core_sci_sm==0.5.4) (1.5.4)\n",
      "Requirement already satisfied: rich>=10.11.0 in c:\\users\\erohsik\\onedrive\\desktop\\regkeyproject\\.venv\\lib\\site-packages (from typer<1.0.0,>=0.3.0->spacy<3.8.0,>=3.7.4->en_core_sci_sm==0.5.4) (13.9.2)\n",
      "Requirement already satisfied: cloudpathlib<1.0.0,>=0.7.0 in c:\\users\\erohsik\\onedrive\\desktop\\regkeyproject\\.venv\\lib\\site-packages (from weasel<0.5.0,>=0.1.0->spacy<3.8.0,>=3.7.4->en_core_sci_sm==0.5.4) (0.20.0)\n",
      "Requirement already satisfied: smart-open<8.0.0,>=5.2.1 in c:\\users\\erohsik\\onedrive\\desktop\\regkeyproject\\.venv\\lib\\site-packages (from weasel<0.5.0,>=0.1.0->spacy<3.8.0,>=3.7.4->en_core_sci_sm==0.5.4) (7.0.5)\n",
      "Requirement already satisfied: MarkupSafe>=2.0 in c:\\users\\erohsik\\onedrive\\desktop\\regkeyproject\\.venv\\lib\\site-packages (from jinja2->spacy<3.8.0,>=3.7.4->en_core_sci_sm==0.5.4) (3.0.2)\n",
      "Requirement already satisfied: marisa-trie>=0.7.7 in c:\\users\\erohsik\\onedrive\\desktop\\regkeyproject\\.venv\\lib\\site-packages (from language-data>=1.2->langcodes<4.0.0,>=3.2.0->spacy<3.8.0,>=3.7.4->en_core_sci_sm==0.5.4) (1.2.1)\n",
      "Requirement already satisfied: markdown-it-py>=2.2.0 in c:\\users\\erohsik\\onedrive\\desktop\\regkeyproject\\.venv\\lib\\site-packages (from rich>=10.11.0->typer<1.0.0,>=0.3.0->spacy<3.8.0,>=3.7.4->en_core_sci_sm==0.5.4) (3.0.0)\n",
      "Requirement already satisfied: pygments<3.0.0,>=2.13.0 in c:\\users\\erohsik\\onedrive\\desktop\\regkeyproject\\.venv\\lib\\site-packages (from rich>=10.11.0->typer<1.0.0,>=0.3.0->spacy<3.8.0,>=3.7.4->en_core_sci_sm==0.5.4) (2.18.0)\n",
      "Requirement already satisfied: wrapt in c:\\users\\erohsik\\onedrive\\desktop\\regkeyproject\\.venv\\lib\\site-packages (from smart-open<8.0.0,>=5.2.1->weasel<0.5.0,>=0.1.0->spacy<3.8.0,>=3.7.4->en_core_sci_sm==0.5.4) (1.16.0)\n",
      "Requirement already satisfied: mdurl~=0.1 in c:\\users\\erohsik\\onedrive\\desktop\\regkeyproject\\.venv\\lib\\site-packages (from markdown-it-py>=2.2.0->rich>=10.11.0->typer<1.0.0,>=0.3.0->spacy<3.8.0,>=3.7.4->en_core_sci_sm==0.5.4) (0.1.2)\n"
     ]
    }
   ],
   "source": [
    "# ! pip install scispacy\n",
    "# ! pip install https://s3-us-west-2.amazonaws.com/ai2-s2-scispacy/releases/v0.5.4/en_core_sci_sm-0.5.4.tar.gz\n",
    "# ! pip install https://s3-us-west-2.amazonaws.com/ai2-s2-scispacy/releases/v0.5.4/en_ner_bc5cdr_md-0.5.4.tar.gz"
   ]
  },
  {
   "cell_type": "markdown",
   "metadata": {},
   "source": [
    "## Approach 1: Dictionary-Based NER with sci_sm Model\n",
    "This approach uses the sci_sm model in Spacy to process biomedical text, but instead of relying on machine learning for disease recognition, we use a custom dictionary of diseases. The PhraseMatcher is used to detect diseases based on exact string matches."
   ]
  },
  {
   "cell_type": "code",
   "execution_count": 4,
   "metadata": {},
   "outputs": [],
   "source": [
    "# Install the necessary Libraries\n",
    "\n",
    "import en_core_sci_sm\n",
    "from spacy.matcher import PhraseMatcher"
   ]
  },
  {
   "cell_type": "code",
   "execution_count": 2,
   "metadata": {},
   "outputs": [],
   "source": [
    "# Sample Description of a Medicine for disease detection\n",
    "\n",
    "text = \"\"\" FRAGMIN (dalteparin sodium) is indicated for prophylaxis of ischemic complications in \n",
    "unstable angina and non-Q-wave myocardial infarction, prophylaxis of deep vein thrombosis (DVT), extended treatment of\n",
    "symptomatic venous thromboembolism (VTE) in adults with cancer, and treatment of symptomatic VTE in pediatric patients aged 1 month and older.\"\"\""
   ]
  },
  {
   "cell_type": "code",
   "execution_count": null,
   "metadata": {},
   "outputs": [],
   "source": [
    "# Load the spaCy model\n",
    "nlp_sci_sm = en_core_sci_sm.load()"
   ]
  },
  {
   "cell_type": "code",
   "execution_count": 6,
   "metadata": {},
   "outputs": [],
   "source": [
    "# Define the disease dictionary (from database or predefined)\n",
    "disease_list = [\n",
    "    \"unstable angina\", \n",
    "    \"myocardial infarction\", \n",
    "    \"deep vein thrombosis\", \n",
    "    \"venous thromboembolism\", \n",
    "    \"VTE\"\n",
    "]"
   ]
  },
  {
   "cell_type": "code",
   "execution_count": 7,
   "metadata": {},
   "outputs": [],
   "source": [
    "# Create PhraseMatcher and add patterns for each disease\n",
    "matcher = PhraseMatcher(nlp_sci_sm.vocab)\n",
    "patterns = [nlp_sci_sm(text) for text in disease_list]\n",
    "matcher.add(\"DISEASE\", patterns)"
   ]
  },
  {
   "cell_type": "code",
   "execution_count": 8,
   "metadata": {},
   "outputs": [],
   "source": [
    "# Process the text\n",
    "doc = nlp_sci_sm(text)"
   ]
  },
  {
   "cell_type": "code",
   "execution_count": 9,
   "metadata": {},
   "outputs": [],
   "source": [
    "# Find matches in the text\n",
    "matches = matcher(doc)"
   ]
  },
  {
   "cell_type": "code",
   "execution_count": 10,
   "metadata": {},
   "outputs": [
    {
     "name": "stdout",
     "output_type": "stream",
     "text": [
      "Diseases mentioned (Dictionary-based): ['unstable angina', 'myocardial infarction', 'deep vein thrombosis', 'venous thromboembolism', 'VTE', 'VTE']\n"
     ]
    }
   ],
   "source": [
    "# Extract matched disease names\n",
    "matched_diseases = [doc[start:end].text for match_id, start, end in matches]\n",
    "print(\"Diseases mentioned (Dictionary-based):\", matched_diseases)"
   ]
  },
  {
   "cell_type": "markdown",
   "metadata": {},
   "source": [
    "## Approach 2: Pretrained NER Model (bc5cdr)\n",
    "In this approach, we leverage the bc5cdr NER model, which is trained specifically to identify disease and chemical entities in biomedical text. The model doesn’t require any pre-defined dictionary and works by recognizing entities based on its training."
   ]
  },
  {
   "cell_type": "code",
   "execution_count": 11,
   "metadata": {},
   "outputs": [],
   "source": [
    "# Importing the required pretrained model\n",
    "import en_ner_bc5cdr_md"
   ]
  },
  {
   "cell_type": "code",
   "execution_count": 12,
   "metadata": {},
   "outputs": [],
   "source": [
    "# Load the pretrained model for NER\n",
    "nlp_bc5cdr = en_ner_bc5cdr_md.load()"
   ]
  },
  {
   "cell_type": "code",
   "execution_count": null,
   "metadata": {},
   "outputs": [],
   "source": [
    "# Process the text using the NER model\n",
    "doc = nlp_bc5cdr(text)"
   ]
  },
  {
   "cell_type": "code",
   "execution_count": 13,
   "metadata": {},
   "outputs": [
    {
     "name": "stdout",
     "output_type": "stream",
     "text": [
      "Diseases mentioned (NER model): []\n"
     ]
    }
   ],
   "source": [
    "# Extract entities recognized as diseases\n",
    "diseases = [ent.text for ent in doc.ents if ent.label_ == \"DISEASE\"]\n",
    "print(\"Diseases mentioned (NER model):\", diseases)"
   ]
  },
  {
   "cell_type": "markdown",
   "metadata": {},
   "source": [
    "### Conclusion\n",
    "\n",
    "**Dictionary-based Approach** is fast, efficient, and works well when you have a small and well-defined list of diseases. However, it lacks flexibility and may miss diseases not in the list.\n",
    "\n",
    "**Pretrained NER Models** like bc5cdr are highly flexible and can identify a wide range of diseases without needing a predefined list. However, this approach requires more computational resources and may introduce occasional inaccuracies."
   ]
  },
  {
   "cell_type": "markdown",
   "metadata": {},
   "source": []
  }
 ],
 "metadata": {
  "kernelspec": {
   "display_name": ".venv",
   "language": "python",
   "name": "python3"
  },
  "language_info": {
   "codemirror_mode": {
    "name": "ipython",
    "version": 3
   },
   "file_extension": ".py",
   "mimetype": "text/x-python",
   "name": "python",
   "nbconvert_exporter": "python",
   "pygments_lexer": "ipython3",
   "version": "3.12.1"
  }
 },
 "nbformat": 4,
 "nbformat_minor": 2
}
