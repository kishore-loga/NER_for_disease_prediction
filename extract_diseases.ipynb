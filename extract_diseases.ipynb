{
 "cells": [
  {
   "cell_type": "markdown",
   "metadata": {},
   "source": [
    "# **NER for Disease Prediction Using Dictionary and Pretrained Model**"
   ]
  },
  {
   "cell_type": "markdown",
   "metadata": {},
   "source": [
    "This notebook demonstrates two different approaches to identifying diseases in text:\n",
    "\n",
    "Using a dictionary with Spacy’s PhraseMatcher: This approach involves matching disease names from a predefined list.\n",
    "Using a pretrained Named Entity Recognition (NER) model: In this case, we use the bc5cdr model, which is trained specifically for biomedical entities."
   ]
  },
  {
   "cell_type": "code",
   "execution_count": 1,
   "metadata": {},
   "outputs": [],
   "source": [
    "# ! pip install scispacy\n",
    "# ! pip install https://s3-us-west-2.amazonaws.com/ai2-s2-scispacy/releases/v0.5.4/en_core_sci_sm-0.5.4.tar.gz\n",
    "# ! pip install https://s3-us-west-2.amazonaws.com/ai2-s2-scispacy/releases/v0.5.4/en_ner_bc5cdr_md-0.5.4.tar.gz"
   ]
  },
  {
   "cell_type": "markdown",
   "metadata": {},
   "source": [
    "## Approach 1: Dictionary-Based NER with sci_sm Model\n",
    "This approach uses the sci_sm model in Spacy to process biomedical text, but instead of relying on machine learning for disease recognition, we use a custom dictionary of diseases. The PhraseMatcher is used to detect diseases based on exact string matches."
   ]
  },
  {
   "cell_type": "code",
   "execution_count": 2,
   "metadata": {},
   "outputs": [],
   "source": [
    "# Install the necessary Libraries\n",
    "\n",
    "import en_core_sci_sm\n",
    "from spacy.matcher import PhraseMatcher"
   ]
  },
  {
   "cell_type": "code",
   "execution_count": 3,
   "metadata": {},
   "outputs": [],
   "source": [
    "# Sample Description of a Medicine for disease detection\n",
    "\n",
    "text = \"\"\" FRAGMIN (dalteparin sodium) is indicated for prophylaxis of ischemic complications in \n",
    "unstable angina and non-Q-wave myocardial infarction, prophylaxis of deep vein thrombosis (DVT), extended treatment of\n",
    "symptomatic venous thromboembolism (VTE) in adults with cancer, and treatment of symptomatic VTE in pediatric patients aged 1 month and older.\"\"\""
   ]
  },
  {
   "cell_type": "code",
   "execution_count": null,
   "metadata": {},
   "outputs": [],
   "source": [
    "# Load the spaCy model\n",
    "nlp_sci_sm = en_core_sci_sm.load()"
   ]
  },
  {
   "cell_type": "code",
   "execution_count": 5,
   "metadata": {},
   "outputs": [],
   "source": [
    "# Define the disease dictionary (from database or predefined)\n",
    "disease_list = [\n",
    "    \"unstable angina\", \n",
    "    \"myocardial infarction\", \n",
    "    \"deep vein thrombosis\", \n",
    "    \"venous thromboembolism\", \n",
    "    \"VTE\"\n",
    "]"
   ]
  },
  {
   "cell_type": "code",
   "execution_count": 6,
   "metadata": {},
   "outputs": [],
   "source": [
    "# Create PhraseMatcher and add patterns for each disease\n",
    "matcher = PhraseMatcher(nlp_sci_sm.vocab)\n",
    "patterns = [nlp_sci_sm(text) for text in disease_list]\n",
    "matcher.add(\"DISEASE\", patterns)"
   ]
  },
  {
   "cell_type": "code",
   "execution_count": 7,
   "metadata": {},
   "outputs": [],
   "source": [
    "# Process the text\n",
    "doc = nlp_sci_sm(text)"
   ]
  },
  {
   "cell_type": "code",
   "execution_count": 8,
   "metadata": {},
   "outputs": [],
   "source": [
    "# Find matches in the text\n",
    "matches = matcher(doc)"
   ]
  },
  {
   "cell_type": "code",
   "execution_count": 9,
   "metadata": {},
   "outputs": [
    {
     "name": "stdout",
     "output_type": "stream",
     "text": [
      "Diseases mentioned (Dictionary-based): ['unstable angina', 'myocardial infarction', 'deep vein thrombosis', 'venous thromboembolism', 'VTE', 'VTE']\n"
     ]
    }
   ],
   "source": [
    "# Extract matched disease names\n",
    "matched_diseases = [doc[start:end].text for match_id, start, end in matches]\n",
    "\n",
    "print(\"Diseases mentioned (Dictionary-based):\", matched_diseases)"
   ]
  },
  {
   "cell_type": "markdown",
   "metadata": {},
   "source": [
    "## Approach 2: Pretrained NER Model (bc5cdr)\n",
    "In this approach, we leverage the bc5cdr NER model, which is trained specifically to identify disease and chemical entities in biomedical text. The model doesn’t require any pre-defined dictionary and works by recognizing entities based on its training."
   ]
  },
  {
   "cell_type": "code",
   "execution_count": 10,
   "metadata": {},
   "outputs": [],
   "source": [
    "# Importing the required pretrained model\n",
    "import en_ner_bc5cdr_md"
   ]
  },
  {
   "cell_type": "code",
   "execution_count": 11,
   "metadata": {},
   "outputs": [],
   "source": [
    "# Load the pretrained model for NER\n",
    "nlp_bc5cdr = en_ner_bc5cdr_md.load()"
   ]
  },
  {
   "cell_type": "code",
   "execution_count": 12,
   "metadata": {},
   "outputs": [],
   "source": [
    "# Process the text using the NER model\n",
    "doc = nlp_bc5cdr(text)"
   ]
  },
  {
   "cell_type": "code",
   "execution_count": 13,
   "metadata": {},
   "outputs": [
    {
     "name": "stdout",
     "output_type": "stream",
     "text": [
      "Diseases mentioned (NER model): ['unstable angina', 'non-Q-wave myocardial infarction', 'vein thrombosis', 'DVT', 'venous thromboembolism', 'VTE', 'cancer', 'VTE']\n"
     ]
    }
   ],
   "source": [
    "# Extract entities recognized as diseases\n",
    "diseases = [ent.text for ent in doc.ents if ent.label_ == \"DISEASE\"]\n",
    "\n",
    "print(\"Diseases mentioned (NER model):\", diseases)"
   ]
  },
  {
   "cell_type": "markdown",
   "metadata": {},
   "source": [
    "### Conclusion\n",
    "\n",
    "**Dictionary-based Approach** is fast, efficient, and works well when you have a small and well-defined list of diseases. However, it lacks flexibility and may miss diseases not in the list.\n",
    "\n",
    "**Pretrained NER Models** like bc5cdr are highly flexible and can identify a wide range of diseases without needing a predefined list. However, this approach requires more computational resources and may introduce occasional inaccuracies."
   ]
  },
  {
   "cell_type": "markdown",
   "metadata": {},
   "source": []
  }
 ],
 "metadata": {
  "kernelspec": {
   "display_name": ".venv",
   "language": "python",
   "name": "python3"
  },
  "language_info": {
   "codemirror_mode": {
    "name": "ipython",
    "version": 3
   },
   "file_extension": ".py",
   "mimetype": "text/x-python",
   "name": "python",
   "nbconvert_exporter": "python",
   "pygments_lexer": "ipython3",
   "version": "3.12.1"
  }
 },
 "nbformat": 4,
 "nbformat_minor": 2
}
